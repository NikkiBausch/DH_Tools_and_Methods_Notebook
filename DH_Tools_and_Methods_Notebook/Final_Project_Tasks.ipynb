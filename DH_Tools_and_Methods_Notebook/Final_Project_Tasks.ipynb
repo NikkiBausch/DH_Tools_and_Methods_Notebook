{
 "cells": [
  {
   "cell_type": "markdown",
   "id": "0774b826-f3ad-48bc-b747-08440da143c2",
   "metadata": {},
   "source": [
    "Scraping tasks: "
   ]
  },
  {
   "cell_type": "code",
   "execution_count": null,
   "id": "6c4ed34b-53bb-4c8d-b82c-9e396b2dee46",
   "metadata": {},
   "outputs": [],
   "source": []
  },
  {
   "cell_type": "markdown",
   "id": "7d9458a7-01a5-42cb-8642-39d2202ba6c6",
   "metadata": {},
   "source": [
    "NLP and Processing of Scraped website data: "
   ]
  },
  {
   "cell_type": "markdown",
   "id": "9ac4c5af-e10c-4e76-b99e-2f6e691eecd3",
   "metadata": {},
   "source": [
    "Simple NLP tasks for a static website page that contains linked photos of existing gravestones in St. Marx. I wanted to check if names found in my Hans Pemmer text, along with addresses have photos in existence on this webpage: I did not scrape this, though, as it seems like someone's small personal project. \n",
    "\n",
    "The code in Box 27 are my prompts for re, and then a code included to add the names to the csv file I created for names that do not have a gravestone photo online anywhere. "
   ]
  },
  {
   "cell_type": "code",
   "execution_count": 1,
   "id": "c721b365-1511-4822-8a81-bf4000e734f9",
   "metadata": {},
   "outputs": [],
   "source": [
    "\n",
    "import re\n",
    "import pandas as pd \n",
    "needs_organizing = '''\n",
    "Large Text Goes here \n",
    "'''"
   ]
  },
  {
   "cell_type": "code",
   "execution_count": 27,
   "id": "d27cb2a4-da5a-4812-8e85-b46a7c5ab943",
   "metadata": {},
   "outputs": [
    {
     "name": "stdout",
     "output_type": "stream",
     "text": [
      "<re.Match object; span=(195221, 195230), match='Rosenthal'>\n"
     ]
    }
   ],
   "source": [
    "re.findall(\"Martin Angelmaler\", needs_organizing)\n",
    "re.findall(\"Franz Zippe\", needs_organizing)\n",
    "re.findall(\"Josef Frueth\", needs_organizing)\n",
    "df = pd.read_csv(\"Pemmer_Works_Spreadsheet.csv\")\n",
    "df.loc[3, 'varchar Name'] = \"Franz Zippe\"\n",
    "df.to_csv(\"Pemmer_Works_Spreadsheet.csv\")\n",
    "print(df)\n",
    "df.loc[4, 'varchar Name'] = \"Josef Frueth\"\n",
    "df.to_csv(\"Pemmer_Works_Spreadsheet.csv\")\n",
    "print(df)\n",
    "re.findall(\"Rosenthal\", needs_organizing)\n",
    "re.search(\"Rosenthal\", needs_organizing)\n"
   ]
  },
  {
   "cell_type": "code",
   "execution_count": null,
   "id": "3bcb7b8f-edc0-433d-9d45-60a34f933068",
   "metadata": {},
   "outputs": [],
   "source": []
  },
  {
   "cell_type": "code",
   "execution_count": null,
   "id": "35d2dc54-7b89-4800-b832-bc2defaa2cd5",
   "metadata": {},
   "outputs": [],
   "source": []
  },
  {
   "cell_type": "markdown",
   "id": "37d0ac59-0dc0-4166-9661-d24f15e5da89",
   "metadata": {},
   "source": [
    "Spatial Analysis and retrieval of current coordinates for addresses we already have: "
   ]
  },
  {
   "cell_type": "markdown",
   "id": "d5189263-528d-449b-859b-f58c7cfca9ab",
   "metadata": {
    "tags": []
   },
   "source": [
    "This space is for addresses that have been looked up and successfully verified through the Wien Geschichte Wiki: \n"
   ]
  },
  {
   "cell_type": "markdown",
   "id": "e7b886c7-de6b-4b9c-ae5e-32fb383b636b",
   "metadata": {},
   "source": [
    "Jasomirgottstrasse 2, Wien 1010\n",
    "Rotenturmstraße 1-3, Wien 1010"
   ]
  },
  {
   "cell_type": "markdown",
   "id": "2187c5e4-360e-4af4-8b47-36c54b5c8357",
   "metadata": {},
   "source": [
    "This space is for the code to look up the lattitude and longitude: "
   ]
  },
  {
   "cell_type": "markdown",
   "id": "3a8b8d7b-9b50-45a5-8c13-9a9570167454",
   "metadata": {},
   "source": [
    "This code uses Geopy to look up the latitude and longitude of the input of an address (prompt): "
   ]
  },
  {
   "cell_type": "code",
   "execution_count": 9,
   "id": "3524b9a6-58bb-4366-8cd9-e1aef4e04e2c",
   "metadata": {},
   "outputs": [
    {
     "name": "stdin",
     "output_type": "stream",
     "text": [
      "Please enter the address you would like to check:  Beethovenplatz 1 Vienna\n"
     ]
    },
    {
     "name": "stdout",
     "output_type": "stream",
     "text": [
      "48.2015474 16.3766125\n"
     ]
    },
    {
     "name": "stdin",
     "output_type": "stream",
     "text": [
      "Which row is this going to? 4\n"
     ]
    },
    {
     "name": "stdout",
     "output_type": "stream",
     "text": [
      "48.2015474\n",
      "16.3766125\n"
     ]
    }
   ],
   "source": [
    "import pandas as pd\n",
    "import geopy.geocoders as gg\n",
    "import os \n",
    "\n",
    "\n",
    "geolocator = gg.Nominatim(user_agent=\"your email or app name goes here\")\n",
    "new_address = input(\"Please enter the address you would like to check: \")\n",
    "location = geolocator.geocode(new_address)\n",
    "new_lat = location.latitude\n",
    "new_long = location.longitude \n",
    "print(new_lat, new_long)\n",
    "\n",
    "i = int(input(\"Which row is this going to?\"))\n",
    "\n",
    "\n",
    "def convertLat(i):\n",
    "    df = pd.read_csv(\"St_Marxer_Spreadsheet.csv\", sep = \";\")\n",
    "    df.loc[i, 'decimal(8,6) latitude'] = new_lat\n",
    "    df.to_csv(\"St_Marxer_Spreadsheet.csv\")\n",
    "    print(new_lat)\n",
    "\n",
    "def convertLong(i): \n",
    "    df = pd.read_csv(\"St_Marxer_Spreadsheet.csv\", sep = \";\")\n",
    "    df.loc[i, 'decimal(9,6) longitude'] = new_long\n",
    "    df.to_csv(\"St_Marxer_Spreadsheet.csv\")\n",
    "    print(new_long)\n",
    "        \n",
    "convertLat(i)\n",
    "convertLong(i)\n",
    "\n",
    "\n",
    "\n",
    "    \n",
    "\n",
    "\n",
    "\n",
    "#df = pd.read_csv(\"St_Marxer_Spreadsheet.csv\")\n",
    "#new_entry = df.loc[52, 'decimal(8,6) latitude'] \n",
    "\n",
    "\n",
    "#df = pd.read_csv(\"Pemmer_Works_Spreadsheet.csv\")\n",
    "#df.loc[3, 'varchar Name'] = \"Franz Zippe\" #The command to establish which row and column the data entry goes\n",
    "#df.to_csv(\"Pemmer_Works_Spreadsheet.csv\") #the command to write into the file\n",
    "#print(df) #Nothing happens unless you print it lol \n",
    "\n",
    "#Create the geocoder (which is ready)\n",
    "#Take the separate latitude and longitude variables \n",
    "#Have a for-loop that opens csv for the data and saves the new latitudes and longitudes in the right rows and columns\n",
    "#There needs to be a separate for-loop for latitude and longitude\n"
   ]
  },
  {
   "cell_type": "code",
   "execution_count": null,
   "id": "5d973ebc-6746-4dca-a2c4-dc944ae69eaa",
   "metadata": {},
   "outputs": [],
   "source": []
  },
  {
   "cell_type": "markdown",
   "id": "3bcafe00-7d3a-413a-8be1-c3acd4e14239",
   "metadata": {},
   "source": [
    "NLP and Sklearn ML Practice with the Titanic Dataset: \n",
    "\n",
    "File path: "
   ]
  },
  {
   "cell_type": "code",
   "execution_count": 14,
   "id": "230960c3-5bb2-4f6f-9b46-79d71676047a",
   "metadata": {},
   "outputs": [],
   "source": [
    "\n",
    "import os \n",
    "import pandas as pd\n",
    "import matplotlib.pyplot as plt\n",
    "import seaborn as sns \n",
    "import nltk \n",
    "from zipfile import ZipFile \n"
   ]
  },
  {
   "cell_type": "code",
   "execution_count": null,
   "id": "d09c92b4-38e0-4aa5-ac9a-9a7c2319d518",
   "metadata": {},
   "outputs": [],
   "source": [
    "import mlflow \n",
    "mlflow.autolog(disable=True)"
   ]
  },
  {
   "cell_type": "code",
   "execution_count": 18,
   "id": "fd0832c2-dac8-4298-a821-7032224ce9ed",
   "metadata": {},
   "outputs": [
    {
     "data": {
      "text/html": [
       "<div>\n",
       "<style scoped>\n",
       "    .dataframe tbody tr th:only-of-type {\n",
       "        vertical-align: middle;\n",
       "    }\n",
       "\n",
       "    .dataframe tbody tr th {\n",
       "        vertical-align: top;\n",
       "    }\n",
       "\n",
       "    .dataframe thead th {\n",
       "        text-align: right;\n",
       "    }\n",
       "</style>\n",
       "<table border=\"1\" class=\"dataframe\">\n",
       "  <thead>\n",
       "    <tr style=\"text-align: right;\">\n",
       "      <th></th>\n",
       "      <th>survived</th>\n",
       "      <th>pclass</th>\n",
       "      <th>name</th>\n",
       "      <th>sex</th>\n",
       "      <th>age</th>\n",
       "      <th>sibsp</th>\n",
       "      <th>parch</th>\n",
       "      <th>ticket</th>\n",
       "      <th>fare</th>\n",
       "      <th>cabin</th>\n",
       "      <th>embarked</th>\n",
       "    </tr>\n",
       "  </thead>\n",
       "  <tbody>\n",
       "    <tr>\n",
       "      <th>0</th>\n",
       "      <td>0</td>\n",
       "      <td>3</td>\n",
       "      <td>Braund, Mr. Owen Harris</td>\n",
       "      <td>male</td>\n",
       "      <td>22.0</td>\n",
       "      <td>1</td>\n",
       "      <td>0</td>\n",
       "      <td>A/5 21171</td>\n",
       "      <td>7.2500</td>\n",
       "      <td>NaN</td>\n",
       "      <td>S</td>\n",
       "    </tr>\n",
       "    <tr>\n",
       "      <th>1</th>\n",
       "      <td>1</td>\n",
       "      <td>1</td>\n",
       "      <td>Cumings, Mrs. John Bradley (Florence Briggs Th...</td>\n",
       "      <td>female</td>\n",
       "      <td>38.0</td>\n",
       "      <td>1</td>\n",
       "      <td>0</td>\n",
       "      <td>PC 17599</td>\n",
       "      <td>71.2833</td>\n",
       "      <td>C85</td>\n",
       "      <td>C</td>\n",
       "    </tr>\n",
       "    <tr>\n",
       "      <th>2</th>\n",
       "      <td>1</td>\n",
       "      <td>3</td>\n",
       "      <td>Heikkinen, Miss. Laina</td>\n",
       "      <td>female</td>\n",
       "      <td>26.0</td>\n",
       "      <td>0</td>\n",
       "      <td>0</td>\n",
       "      <td>STON/O2. 3101282</td>\n",
       "      <td>7.9250</td>\n",
       "      <td>NaN</td>\n",
       "      <td>S</td>\n",
       "    </tr>\n",
       "    <tr>\n",
       "      <th>3</th>\n",
       "      <td>1</td>\n",
       "      <td>1</td>\n",
       "      <td>Futrelle, Mrs. Jacques Heath (Lily May Peel)</td>\n",
       "      <td>female</td>\n",
       "      <td>35.0</td>\n",
       "      <td>1</td>\n",
       "      <td>0</td>\n",
       "      <td>113803</td>\n",
       "      <td>53.1000</td>\n",
       "      <td>C123</td>\n",
       "      <td>S</td>\n",
       "    </tr>\n",
       "    <tr>\n",
       "      <th>4</th>\n",
       "      <td>0</td>\n",
       "      <td>3</td>\n",
       "      <td>Allen, Mr. William Henry</td>\n",
       "      <td>male</td>\n",
       "      <td>35.0</td>\n",
       "      <td>0</td>\n",
       "      <td>0</td>\n",
       "      <td>373450</td>\n",
       "      <td>8.0500</td>\n",
       "      <td>NaN</td>\n",
       "      <td>S</td>\n",
       "    </tr>\n",
       "  </tbody>\n",
       "</table>\n",
       "</div>"
      ],
      "text/plain": [
       "   survived  pclass                                               name  \\\n",
       "0         0       3                            Braund, Mr. Owen Harris   \n",
       "1         1       1  Cumings, Mrs. John Bradley (Florence Briggs Th...   \n",
       "2         1       3                             Heikkinen, Miss. Laina   \n",
       "3         1       1       Futrelle, Mrs. Jacques Heath (Lily May Peel)   \n",
       "4         0       3                           Allen, Mr. William Henry   \n",
       "\n",
       "      sex   age  sibsp  parch            ticket     fare cabin embarked  \n",
       "0    male  22.0      1      0         A/5 21171   7.2500   NaN        S  \n",
       "1  female  38.0      1      0          PC 17599  71.2833   C85        C  \n",
       "2  female  26.0      0      0  STON/O2. 3101282   7.9250   NaN        S  \n",
       "3  female  35.0      1      0            113803  53.1000  C123        S  \n",
       "4    male  35.0      0      0            373450   8.0500   NaN        S  "
      ]
     },
     "execution_count": 18,
     "metadata": {},
     "output_type": "execute_result"
    }
   ],
   "source": [
    "Titanic_Data = pd.read_csv('titanic.csv' , sep=',' )\n",
    "Titanic_Data.head()\n"
   ]
  },
  {
   "cell_type": "code",
   "execution_count": 22,
   "id": "f5fabe85-31fb-4d0f-acb8-dd94f1470108",
   "metadata": {},
   "outputs": [
    {
     "name": "stdout",
     "output_type": "stream",
     "text": [
      "\n",
      " 0    0\n",
      "1    1\n",
      "2    1\n",
      "3    1\n",
      "4    0\n",
      "5    0\n",
      "6    0\n",
      "7    0\n",
      "8    1\n",
      "9    1\n",
      "Name: survived, dtype: int64\n",
      "\n",
      " 0                              Braund, Mr. Owen Harris\n",
      "1    Cumings, Mrs. John Bradley (Florence Briggs Th...\n",
      "2                               Heikkinen, Miss. Laina\n",
      "3         Futrelle, Mrs. Jacques Heath (Lily May Peel)\n",
      "4                             Allen, Mr. William Henry\n",
      "5                                     Moran, Mr. James\n",
      "6                              McCarthy, Mr. Timothy J\n",
      "7                       Palsson, Master. Gosta Leonard\n",
      "8    Johnson, Mrs. Oscar W (Elisabeth Vilhelmina Berg)\n",
      "9                  Nasser, Mrs. Nicholas (Adele Achem)\n",
      "Name: name, dtype: object\n"
     ]
    }
   ],
   "source": [
    "data = Titanic_Data['survived']\n",
    "target = Titanic_Data['name'].replace('survived', 1).replace('died', 0)\n",
    "names = ['survived', 'died']\n",
    "print(\"\\n\", data[:10])\n",
    "print(\"\\n\", target[:10])"
   ]
  },
  {
   "cell_type": "code",
   "execution_count": 23,
   "id": "d5d94ad2-5a53-466f-8176-764e333363b9",
   "metadata": {},
   "outputs": [
    {
     "name": "stdout",
     "output_type": "stream",
     "text": [
      "Train size: 712\n",
      "Test size: 179\n"
     ]
    }
   ],
   "source": [
    "from sklearn.model_selection import train_test_split\n",
    "X_train, X_test, Y_train, Y_test = train_test_split(data, target, test_size=0.2)\n",
    "print('Train size: {}'.format(len(X_train)))\n",
    "print('Test size: {}'.format(len(X_test)))\n"
   ]
  },
  {
   "cell_type": "code",
   "execution_count": null,
   "id": "4d1bb9e5-39f3-4edf-85c2-e5d8fdb3ebc8",
   "metadata": {},
   "outputs": [],
   "source": []
  },
  {
   "cell_type": "code",
   "execution_count": null,
   "id": "61ce31f2-c48a-4143-9f8b-f3e237bb3a05",
   "metadata": {},
   "outputs": [],
   "source": []
  },
  {
   "cell_type": "code",
   "execution_count": 8,
   "id": "12344e3e-fecf-486c-8b07-c8cd5a24eb2f",
   "metadata": {},
   "outputs": [
    {
     "name": "stdout",
     "output_type": "stream",
     "text": [
      "Collecting pytesseract\n",
      "  Downloading pytesseract-0.3.10-py3-none-any.whl (14 kB)\n",
      "Note: you may need to restart the kernel to use updated packages.\n"
     ]
    },
    {
     "name": "stderr",
     "output_type": "stream",
     "text": [
      "ERROR: Could not find a version that satisfies the requirement as (from versions: none)\n",
      "ERROR: No matching distribution found for as\n"
     ]
    }
   ],
   "source": []
  },
  {
   "cell_type": "markdown",
   "id": "2c4fc633-5590-412f-af0d-6c689a93c30b",
   "metadata": {},
   "source": [
    "Sources: \n",
    "    Nikles, G. (2023): 03. Bezirk - Friedhof St. Marx - Gräberliste. https://www.austriasites.com/vienna/bezirk03_friedhof_st_marx_graeber.htm\n",
    "    (08.01.2023)\n",
    "    Pemmer, H. (1966): Bedeutende und interessante Bewohner der Erdbergstraße. In: Wiener Geschichtsblätter. Band 21. Wien: Verein für Geschichte der Stadt Wien, S. 33 ff. Digital copy: https://anno.onb.ac.at/cgi-content/anno-plus?aid=maw&datum=1966&pos=49&size=45\n",
    "    "
   ]
  },
  {
   "cell_type": "code",
   "execution_count": 12,
   "id": "d95c67f6-03b8-4a8c-99ff-247f728eece0",
   "metadata": {},
   "outputs": [
    {
     "name": "stdout",
     "output_type": "stream",
     "text": [
      "Requirement already satisfied: pytesseract in c:\\users\\arcan\\anaconda3\\lib\\site-packages (0.3.10)\n",
      "Requirement already satisfied: packaging>=21.3 in c:\\users\\arcan\\anaconda3\\lib\\site-packages (from pytesseract) (21.3)\n",
      "Requirement already satisfied: Pillow>=8.0.0 in c:\\users\\arcan\\anaconda3\\lib\\site-packages (from pytesseract) (9.0.1)\n",
      "Requirement already satisfied: pyparsing!=3.0.5,>=2.0.2 in c:\\users\\arcan\\anaconda3\\lib\\site-packages (from packaging>=21.3->pytesseract) (3.0.4)\n",
      "Es ist verstindlich, da® eine Anderung ihrer politischen Stellung zum Landesherrn\n",
      "und zum Lande bisweilen, wie einige Male in der Geschichte beweisbar, von den Wie-\n",
      "nern erstrebt, oder falls sie ihnen als Glicksfall in den Scho8 fiel, freudig ergriffen\n",
      "wurde, So war es schon, als Kaiser Friedrich Il, 1237 und Rudolf I, 1278 der Stadt die\n",
      "Reichsfreiheit verlieh und Wien, wenn auch nur fir kurze Zeit, eine Sonderstellung er-\n",
      "langte. 4) So war es auch in konstitutioneller Zeit, als die gewahlten Vertreter Wiens\n",
      "im Gemeinderat und im Landtage einige Male die Frage einer selbstandigen Stellung ,\n",
      "einer Loslésung von Niederdsterreich, die Frage der Reichsfreiheit Wiens zur Sprache\n",
      "brachten, 1864 war es die dufBerste Linke im Gemeinderate, die aus parteipolitischen\n",
      "Erwagungen flr Wien die Reichsunmittelbarkeit erstrebte, um den liberalen Gemeinde-\n",
      "rat vom konservativen Landtag unabhangig zu machen, °) Der spitere Biirgermeister\n",
      "Dr. Felder nahm damals mit Erfolg dagegen Stellung, weil er beftirchtete, da8 durch\n",
      "die Loslésung Wiens vom Mutterlande Niederésterreich der deutsche Charakter Wiens\n",
      "gefahrdet wiirde. Wohl nicht ganz unbegriindet, denn 1859 wurde der Plan einer Glie~\n",
      "derung Wiens in nationale Viertel vorgeschlagen. 6) 1869 stellte Gemeinderat Dr. Bil-\n",
      "ling den Antrag, das verfassungsmaBige Band Wiens mit Niederdsterreich, wegen der\n",
      "Finanzkontrolle des Landtages zu lésen. 7) 1886 war es Dr. Lueger, der Wien aus dem\n",
      "politischen und finanziellen Verbande mit Niederdsterreich lésen wollte. 8) Doch alle\n",
      "diese Antrige blieben erfolglos.\n",
      "\n"
     ]
    }
   ],
   "source": [
    "#!pip install pytesseract\n",
    "import pytesseract\n",
    "\n",
    "pytesseract.pytesseract.tesseract_cmd = r'C:\\Program Files\\Tesseract-OCR\\tesseract'\n",
    "#print(pytesseract.image_to_string(r'JuliusRadl1.jpg')) #Nope #Fail \n",
    "#print(pytesseract.image_to_string(r'juliusradl2.jpg')) #Nope \n",
    "#print(pytesseract.image_to_string(r'carlkhym1.jpg')) #Nope\n",
    "print(pytesseract.image_to_string(r'blatter1.jpg'))\n",
    "\n",
    "\n",
    "\n"
   ]
  },
  {
   "cell_type": "code",
   "execution_count": null,
   "id": "e2a2a5f2-d3b1-4f84-9656-5211b567a8a2",
   "metadata": {},
   "outputs": [],
   "source": [
    "\n"
   ]
  },
  {
   "cell_type": "code",
   "execution_count": null,
   "id": "43e30bbc-c9aa-4bdf-a753-fa5eb524a83b",
   "metadata": {},
   "outputs": [],
   "source": []
  },
  {
   "cell_type": "code",
   "execution_count": null,
   "id": "65540057-144e-4b28-9d0b-c64b81359241",
   "metadata": {},
   "outputs": [],
   "source": []
  }
 ],
 "metadata": {
  "kernelspec": {
   "display_name": "Python 3 (ipykernel)",
   "language": "python",
   "name": "python3"
  },
  "language_info": {
   "codemirror_mode": {
    "name": "ipython",
    "version": 3
   },
   "file_extension": ".py",
   "mimetype": "text/x-python",
   "name": "python",
   "nbconvert_exporter": "python",
   "pygments_lexer": "ipython3",
   "version": "3.9.12"
  }
 },
 "nbformat": 4,
 "nbformat_minor": 5
}
