{
 "cells": [
  {
   "cell_type": "markdown",
   "id": "0774b826-f3ad-48bc-b747-08440da143c2",
   "metadata": {},
   "source": [
    "Scraping tasks: "
   ]
  },
  {
   "cell_type": "code",
   "execution_count": null,
   "id": "6c4ed34b-53bb-4c8d-b82c-9e396b2dee46",
   "metadata": {},
   "outputs": [],
   "source": []
  },
  {
   "cell_type": "markdown",
   "id": "7d9458a7-01a5-42cb-8642-39d2202ba6c6",
   "metadata": {},
   "source": [
    "NLP and Processing of Scraped website data: "
   ]
  },
  {
   "cell_type": "markdown",
   "id": "9ac4c5af-e10c-4e76-b99e-2f6e691eecd3",
   "metadata": {},
   "source": [
    "Simple NLP tasks for a static website page that contains linked photos of existing gravestones in St. Marx. I wanted to check if names found in my Hans Pemmer text, along with addresses have photos in existence on this webpage: I did not scrape this, though, as it seems like someone's small personal project. \n",
    "\n",
    "The code in Box 27 are my prompts for re, and then a code included to add the names to the csv file I created for names that do not have a gravestone photo online anywhere. "
   ]
  },
  {
   "cell_type": "code",
   "execution_count": 1,
   "id": "c721b365-1511-4822-8a81-bf4000e734f9",
   "metadata": {},
   "outputs": [],
   "source": [
    "\n",
    "import re\n",
    "import pandas as pd \n",
    "needs_organizing = '''\n",
    "Large Text Goes here \n",
    "'''"
   ]
  },
  {
   "cell_type": "code",
   "execution_count": 27,
   "id": "d27cb2a4-da5a-4812-8e85-b46a7c5ab943",
   "metadata": {},
   "outputs": [
    {
     "name": "stdout",
     "output_type": "stream",
     "text": [
      "<re.Match object; span=(195221, 195230), match='Rosenthal'>\n"
     ]
    }
   ],
   "source": [
    "re.findall(\"Martin Angelmaler\", needs_organizing)\n",
    "re.findall(\"Franz Zippe\", needs_organizing)\n",
    "re.findall(\"Josef Frueth\", needs_organizing)\n",
    "df = pd.read_csv(\"Pemmer_Works_Spreadsheet.csv\")\n",
    "df.loc[3, 'varchar Name'] = \"Franz Zippe\"\n",
    "df.to_csv(\"Pemmer_Works_Spreadsheet.csv\")\n",
    "print(df)\n",
    "df.loc[4, 'varchar Name'] = \"Josef Frueth\"\n",
    "df.to_csv(\"Pemmer_Works_Spreadsheet.csv\")\n",
    "print(df)\n",
    "re.findall(\"Rosenthal\", needs_organizing)\n",
    "re.search(\"Rosenthal\", needs_organizing)\n"
   ]
  },
  {
   "cell_type": "code",
   "execution_count": null,
   "id": "3bcb7b8f-edc0-433d-9d45-60a34f933068",
   "metadata": {},
   "outputs": [],
   "source": []
  },
  {
   "cell_type": "code",
   "execution_count": null,
   "id": "35d2dc54-7b89-4800-b832-bc2defaa2cd5",
   "metadata": {},
   "outputs": [],
   "source": []
  },
  {
   "cell_type": "markdown",
   "id": "37d0ac59-0dc0-4166-9661-d24f15e5da89",
   "metadata": {},
   "source": [
    "Spatial Analysis and retrieval of current coordinates for addresses we already have: "
   ]
  },
  {
   "cell_type": "markdown",
   "id": "d5189263-528d-449b-859b-f58c7cfca9ab",
   "metadata": {
    "tags": []
   },
   "source": [
    "This space is for addresses that have been looked up and successfully verified through the Wien Geschichte Wiki: \n"
   ]
  },
  {
   "cell_type": "markdown",
   "id": "e7b886c7-de6b-4b9c-ae5e-32fb383b636b",
   "metadata": {},
   "source": [
    "Jasomirgottstrasse 2, Wien 1010\n",
    "Rotenturmstraße 1-3, Wien 1010"
   ]
  },
  {
   "cell_type": "markdown",
   "id": "2187c5e4-360e-4af4-8b47-36c54b5c8357",
   "metadata": {},
   "source": [
    "This space is for the code to look up the lattitude and longitude: "
   ]
  },
  {
   "cell_type": "markdown",
   "id": "3a8b8d7b-9b50-45a5-8c13-9a9570167454",
   "metadata": {},
   "source": [
    "This code uses Geopy to look up the latitude and longitude of the input of an address (prompt): "
   ]
  },
  {
   "cell_type": "code",
   "execution_count": 9,
   "id": "3524b9a6-58bb-4366-8cd9-e1aef4e04e2c",
   "metadata": {},
   "outputs": [
    {
     "name": "stdin",
     "output_type": "stream",
     "text": [
      "Please enter the address you would like to check:  Jasomirgottstrasse 2, Wien 1010\n"
     ]
    },
    {
     "name": "stdout",
     "output_type": "stream",
     "text": [
      "48.2090519 16.3721644\n"
     ]
    }
   ],
   "source": [
    "\n",
    "import geopy.geocoders as gg\n",
    "\n",
    "\n",
    "geolocator = gg.Nominatim(user_agent=\"your email or app name goes here\")\n",
    "\n",
    "new_address = input(\"Please enter the address you would like to check: \")\n",
    "location = geolocator.geocode(new_address)\n",
    "new_lat = location.latitude\n",
    "new_long = location.longitude \n",
    "\n",
    "print(new_lat, new_long)\n",
    "\n",
    "\n"
   ]
  },
  {
   "cell_type": "code",
   "execution_count": null,
   "id": "5d973ebc-6746-4dca-a2c4-dc944ae69eaa",
   "metadata": {},
   "outputs": [],
   "source": []
  },
  {
   "cell_type": "markdown",
   "id": "3bcafe00-7d3a-413a-8be1-c3acd4e14239",
   "metadata": {},
   "source": [
    "NLP and Sklearn ML Practice with the Titanic Dataset: \n",
    "\n",
    "File path: "
   ]
  },
  {
   "cell_type": "code",
   "execution_count": 14,
   "id": "230960c3-5bb2-4f6f-9b46-79d71676047a",
   "metadata": {},
   "outputs": [],
   "source": [
    "\n",
    "import os \n",
    "import pandas as pd\n",
    "import matplotlib.pyplot as plt\n",
    "import seaborn as sns \n",
    "import nltk \n",
    "from zipfile import ZipFile \n"
   ]
  },
  {
   "cell_type": "code",
   "execution_count": null,
   "id": "d09c92b4-38e0-4aa5-ac9a-9a7c2319d518",
   "metadata": {},
   "outputs": [],
   "source": [
    "import mlflow \n",
    "mlflow.autolog(disable=True)"
   ]
  },
  {
   "cell_type": "code",
   "execution_count": 18,
   "id": "fd0832c2-dac8-4298-a821-7032224ce9ed",
   "metadata": {},
   "outputs": [
    {
     "data": {
      "text/html": [
       "<div>\n",
       "<style scoped>\n",
       "    .dataframe tbody tr th:only-of-type {\n",
       "        vertical-align: middle;\n",
       "    }\n",
       "\n",
       "    .dataframe tbody tr th {\n",
       "        vertical-align: top;\n",
       "    }\n",
       "\n",
       "    .dataframe thead th {\n",
       "        text-align: right;\n",
       "    }\n",
       "</style>\n",
       "<table border=\"1\" class=\"dataframe\">\n",
       "  <thead>\n",
       "    <tr style=\"text-align: right;\">\n",
       "      <th></th>\n",
       "      <th>survived</th>\n",
       "      <th>pclass</th>\n",
       "      <th>name</th>\n",
       "      <th>sex</th>\n",
       "      <th>age</th>\n",
       "      <th>sibsp</th>\n",
       "      <th>parch</th>\n",
       "      <th>ticket</th>\n",
       "      <th>fare</th>\n",
       "      <th>cabin</th>\n",
       "      <th>embarked</th>\n",
       "    </tr>\n",
       "  </thead>\n",
       "  <tbody>\n",
       "    <tr>\n",
       "      <th>0</th>\n",
       "      <td>0</td>\n",
       "      <td>3</td>\n",
       "      <td>Braund, Mr. Owen Harris</td>\n",
       "      <td>male</td>\n",
       "      <td>22.0</td>\n",
       "      <td>1</td>\n",
       "      <td>0</td>\n",
       "      <td>A/5 21171</td>\n",
       "      <td>7.2500</td>\n",
       "      <td>NaN</td>\n",
       "      <td>S</td>\n",
       "    </tr>\n",
       "    <tr>\n",
       "      <th>1</th>\n",
       "      <td>1</td>\n",
       "      <td>1</td>\n",
       "      <td>Cumings, Mrs. John Bradley (Florence Briggs Th...</td>\n",
       "      <td>female</td>\n",
       "      <td>38.0</td>\n",
       "      <td>1</td>\n",
       "      <td>0</td>\n",
       "      <td>PC 17599</td>\n",
       "      <td>71.2833</td>\n",
       "      <td>C85</td>\n",
       "      <td>C</td>\n",
       "    </tr>\n",
       "    <tr>\n",
       "      <th>2</th>\n",
       "      <td>1</td>\n",
       "      <td>3</td>\n",
       "      <td>Heikkinen, Miss. Laina</td>\n",
       "      <td>female</td>\n",
       "      <td>26.0</td>\n",
       "      <td>0</td>\n",
       "      <td>0</td>\n",
       "      <td>STON/O2. 3101282</td>\n",
       "      <td>7.9250</td>\n",
       "      <td>NaN</td>\n",
       "      <td>S</td>\n",
       "    </tr>\n",
       "    <tr>\n",
       "      <th>3</th>\n",
       "      <td>1</td>\n",
       "      <td>1</td>\n",
       "      <td>Futrelle, Mrs. Jacques Heath (Lily May Peel)</td>\n",
       "      <td>female</td>\n",
       "      <td>35.0</td>\n",
       "      <td>1</td>\n",
       "      <td>0</td>\n",
       "      <td>113803</td>\n",
       "      <td>53.1000</td>\n",
       "      <td>C123</td>\n",
       "      <td>S</td>\n",
       "    </tr>\n",
       "    <tr>\n",
       "      <th>4</th>\n",
       "      <td>0</td>\n",
       "      <td>3</td>\n",
       "      <td>Allen, Mr. William Henry</td>\n",
       "      <td>male</td>\n",
       "      <td>35.0</td>\n",
       "      <td>0</td>\n",
       "      <td>0</td>\n",
       "      <td>373450</td>\n",
       "      <td>8.0500</td>\n",
       "      <td>NaN</td>\n",
       "      <td>S</td>\n",
       "    </tr>\n",
       "  </tbody>\n",
       "</table>\n",
       "</div>"
      ],
      "text/plain": [
       "   survived  pclass                                               name  \\\n",
       "0         0       3                            Braund, Mr. Owen Harris   \n",
       "1         1       1  Cumings, Mrs. John Bradley (Florence Briggs Th...   \n",
       "2         1       3                             Heikkinen, Miss. Laina   \n",
       "3         1       1       Futrelle, Mrs. Jacques Heath (Lily May Peel)   \n",
       "4         0       3                           Allen, Mr. William Henry   \n",
       "\n",
       "      sex   age  sibsp  parch            ticket     fare cabin embarked  \n",
       "0    male  22.0      1      0         A/5 21171   7.2500   NaN        S  \n",
       "1  female  38.0      1      0          PC 17599  71.2833   C85        C  \n",
       "2  female  26.0      0      0  STON/O2. 3101282   7.9250   NaN        S  \n",
       "3  female  35.0      1      0            113803  53.1000  C123        S  \n",
       "4    male  35.0      0      0            373450   8.0500   NaN        S  "
      ]
     },
     "execution_count": 18,
     "metadata": {},
     "output_type": "execute_result"
    }
   ],
   "source": [
    "Titanic_Data = pd.read_csv('titanic.csv' , sep=',' )\n",
    "Titanic_Data.head()\n"
   ]
  },
  {
   "cell_type": "code",
   "execution_count": 22,
   "id": "f5fabe85-31fb-4d0f-acb8-dd94f1470108",
   "metadata": {},
   "outputs": [
    {
     "name": "stdout",
     "output_type": "stream",
     "text": [
      "\n",
      " 0    0\n",
      "1    1\n",
      "2    1\n",
      "3    1\n",
      "4    0\n",
      "5    0\n",
      "6    0\n",
      "7    0\n",
      "8    1\n",
      "9    1\n",
      "Name: survived, dtype: int64\n",
      "\n",
      " 0                              Braund, Mr. Owen Harris\n",
      "1    Cumings, Mrs. John Bradley (Florence Briggs Th...\n",
      "2                               Heikkinen, Miss. Laina\n",
      "3         Futrelle, Mrs. Jacques Heath (Lily May Peel)\n",
      "4                             Allen, Mr. William Henry\n",
      "5                                     Moran, Mr. James\n",
      "6                              McCarthy, Mr. Timothy J\n",
      "7                       Palsson, Master. Gosta Leonard\n",
      "8    Johnson, Mrs. Oscar W (Elisabeth Vilhelmina Berg)\n",
      "9                  Nasser, Mrs. Nicholas (Adele Achem)\n",
      "Name: name, dtype: object\n"
     ]
    }
   ],
   "source": [
    "data = Titanic_Data['survived']\n",
    "target = Titanic_Data['name'].replace('survived', 1).replace('died', 0)\n",
    "names = ['survived', 'died']\n",
    "print(\"\\n\", data[:10])\n",
    "print(\"\\n\", target[:10])"
   ]
  },
  {
   "cell_type": "code",
   "execution_count": 23,
   "id": "d5d94ad2-5a53-466f-8176-764e333363b9",
   "metadata": {},
   "outputs": [
    {
     "name": "stdout",
     "output_type": "stream",
     "text": [
      "Train size: 712\n",
      "Test size: 179\n"
     ]
    }
   ],
   "source": [
    "from sklearn.model_selection import train_test_split\n",
    "X_train, X_test, Y_train, Y_test = train_test_split(data, target, test_size=0.2)\n",
    "print('Train size: {}'.format(len(X_train)))\n",
    "print('Test size: {}'.format(len(X_test)))\n"
   ]
  },
  {
   "cell_type": "code",
   "execution_count": null,
   "id": "4d1bb9e5-39f3-4edf-85c2-e5d8fdb3ebc8",
   "metadata": {},
   "outputs": [],
   "source": []
  },
  {
   "cell_type": "code",
   "execution_count": null,
   "id": "61ce31f2-c48a-4143-9f8b-f3e237bb3a05",
   "metadata": {},
   "outputs": [],
   "source": []
  },
  {
   "cell_type": "code",
   "execution_count": null,
   "id": "12344e3e-fecf-486c-8b07-c8cd5a24eb2f",
   "metadata": {},
   "outputs": [],
   "source": []
  },
  {
   "cell_type": "markdown",
   "id": "2c4fc633-5590-412f-af0d-6c689a93c30b",
   "metadata": {},
   "source": [
    "Sources: \n",
    "    Nikles, G. (2023): 03. Bezirk - Friedhof St. Marx - Gräberliste. https://www.austriasites.com/vienna/bezirk03_friedhof_st_marx_graeber.htm\n",
    "    (08.01.2023)\n",
    "    Pemmer, H. (1966): Bedeutende und interessante Bewohner der Erdbergstraße. In: Wiener Geschichtsblätter. Band 21. Wien: Verein für Geschichte der Stadt Wien, S. 33 ff. Digital copy: https://anno.onb.ac.at/cgi-content/anno-plus?aid=maw&datum=1966&pos=49&size=45\n",
    "    "
   ]
  },
  {
   "cell_type": "code",
   "execution_count": null,
   "id": "d95c67f6-03b8-4a8c-99ff-247f728eece0",
   "metadata": {},
   "outputs": [],
   "source": []
  }
 ],
 "metadata": {
  "kernelspec": {
   "display_name": "Python 3 (ipykernel)",
   "language": "python",
   "name": "python3"
  },
  "language_info": {
   "codemirror_mode": {
    "name": "ipython",
    "version": 3
   },
   "file_extension": ".py",
   "mimetype": "text/x-python",
   "name": "python",
   "nbconvert_exporter": "python",
   "pygments_lexer": "ipython3",
   "version": "3.9.12"
  }
 },
 "nbformat": 4,
 "nbformat_minor": 5
}
