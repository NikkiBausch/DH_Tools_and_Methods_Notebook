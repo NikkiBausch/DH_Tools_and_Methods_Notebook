{
 "cells": [
  {
   "cell_type": "markdown",
   "id": "0774b826-f3ad-48bc-b747-08440da143c2",
   "metadata": {},
   "source": [
    "Scraping tasks: "
   ]
  },
  {
   "cell_type": "code",
   "execution_count": null,
   "id": "6c4ed34b-53bb-4c8d-b82c-9e396b2dee46",
   "metadata": {},
   "outputs": [],
   "source": []
  },
  {
   "cell_type": "markdown",
   "id": "7d9458a7-01a5-42cb-8642-39d2202ba6c6",
   "metadata": {},
   "source": [
    "NLP and Processing of Scraped website data: "
   ]
  },
  {
   "cell_type": "markdown",
   "id": "9ac4c5af-e10c-4e76-b99e-2f6e691eecd3",
   "metadata": {},
   "source": [
    "Simple NLP tasks for a static website page that contains linked photos of existing gravestones in St. Marx. I wanted to check if names found in my Hans Pemmer text, along with addresses have photos in existence on this webpage: I did not scrape this, though, as it seems like someone's small personal project. \n",
    "\n",
    "The code in Box 27 are my prompts for re, and then a code included to add the names to the csv file I created for names that do not have a gravestone photo online anywhere. "
   ]
  },
  {
   "cell_type": "code",
   "execution_count": 1,
   "id": "c721b365-1511-4822-8a81-bf4000e734f9",
   "metadata": {},
   "outputs": [],
   "source": [
    "\n",
    "import re\n",
    "import pandas as pd \n",
    "needs_organizing = '''\n",
    "Large Text Goes here \n",
    "'''"
   ]
  },
  {
   "cell_type": "code",
   "execution_count": 27,
   "id": "d27cb2a4-da5a-4812-8e85-b46a7c5ab943",
   "metadata": {},
   "outputs": [
    {
     "name": "stdout",
     "output_type": "stream",
     "text": [
      "<re.Match object; span=(195221, 195230), match='Rosenthal'>\n"
     ]
    }
   ],
   "source": [
    "#re.findall(\"Martin Angelmaler\", needs_organizing)\n",
    "#re.findall(\"Franz Zippe\", needs_organizing)\n",
    "#re.findall(\"Josef Frueth\", needs_organizing)\n",
    "#df = pd.read_csv(\"Pemmer_Works_Spreadsheet.csv\")\n",
    "#df.loc[3, 'varchar Name'] = \"Franz Zippe\"\n",
    "#df.to_csv(\"Pemmer_Works_Spreadsheet.csv\")\n",
    "#print(df)\n",
    "#df.loc[4, 'varchar Name'] = \"Josef Frueth\"\n",
    "#df.to_csv(\"Pemmer_Works_Spreadsheet.csv\")\n",
    "#print(df)\n",
    "#re.findall(\"Rosenthal\", needs_organizing)\n",
    "#re.search(\"Rosenthal\", needs_organizing)\n"
   ]
  },
  {
   "cell_type": "code",
   "execution_count": null,
   "id": "3bcb7b8f-edc0-433d-9d45-60a34f933068",
   "metadata": {},
   "outputs": [],
   "source": []
  },
  {
   "cell_type": "code",
   "execution_count": null,
   "id": "35d2dc54-7b89-4800-b832-bc2defaa2cd5",
   "metadata": {},
   "outputs": [],
   "source": []
  },
  {
   "cell_type": "markdown",
   "id": "37d0ac59-0dc0-4166-9661-d24f15e5da89",
   "metadata": {},
   "source": [
    "Spatial Analysis and retrieval of current coordinates for addresses we already have: "
   ]
  },
  {
   "cell_type": "markdown",
   "id": "d5189263-528d-449b-859b-f58c7cfca9ab",
   "metadata": {
    "tags": []
   },
   "source": [
    "This space is for addresses that have been looked up and successfully verified through the Wien Geschichte Wiki: \n"
   ]
  },
  {
   "cell_type": "code",
   "execution_count": null,
   "id": "ac5d7c9d-4332-4c34-a482-c1e582ec50c8",
   "metadata": {},
   "outputs": [],
   "source": [
    "Jasomirgottstrasse 2, Wien 1010\n",
    "Rotenturmstraße 1-3, Wien 1010"
   ]
  },
  {
   "cell_type": "markdown",
   "id": "2187c5e4-360e-4af4-8b47-36c54b5c8357",
   "metadata": {},
   "source": [
    "This space is for the code to look up the lattitude and longitude: "
   ]
  },
  {
   "cell_type": "markdown",
   "id": "3a8b8d7b-9b50-45a5-8c13-9a9570167454",
   "metadata": {},
   "source": [
    "This code uses Geopy to look up the latitude and longitude of the input of an address (prompt): "
   ]
  },
  {
   "cell_type": "code",
   "execution_count": 39,
   "id": "3524b9a6-58bb-4366-8cd9-e1aef4e04e2c",
   "metadata": {},
   "outputs": [
    {
     "name": "stdin",
     "output_type": "stream",
     "text": [
      "Please enter the address you would like to check:  Jasomirgottstrasse 2, Wien 1010\n"
     ]
    },
    {
     "name": "stdout",
     "output_type": "stream",
     "text": [
      "48.2090519 16.3721644\n"
     ]
    }
   ],
   "source": [
    "\n",
    "import geopy.geocoders as gg\n",
    "\n",
    "\n",
    "geolocator = gg.Nominatim(user_agent=\"email address or app name goes here\")\n",
    "\n",
    "new_address = input(\"Please enter the address you would like to check: \")\n",
    "location = geolocator.geocode(new_address)\n",
    "new_lat = location.latitude\n",
    "new_long = location.longitude \n",
    "\n",
    "print( new_lat, new_long)\n",
    "\n",
    "\n"
   ]
  },
  {
   "cell_type": "code",
   "execution_count": null,
   "id": "5d973ebc-6746-4dca-a2c4-dc944ae69eaa",
   "metadata": {},
   "outputs": [],
   "source": []
  },
  {
   "cell_type": "markdown",
   "id": "2c4fc633-5590-412f-af0d-6c689a93c30b",
   "metadata": {},
   "source": [
    "Sources: \n",
    "    Nikles, G. (2023): 03. Bezirk - Friedhof St. Marx - Gräberliste. https://www.austriasites.com/vienna/bezirk03_friedhof_st_marx_graeber.htm\n",
    "    (08.01.2023)\n",
    "    Pemmer, H. (1966): Bedeutende und interessante Bewohner der Erdbergstraße. In: Wiener Geschichtsblätter. Band 21. Wien: Verein für Geschichte der Stadt Wien, S. 33 ff. Digital copy: https://anno.onb.ac.at/cgi-content/anno-plus?aid=maw&datum=1966&pos=49&size=45\n",
    "    "
   ]
  }
 ],
 "metadata": {
  "kernelspec": {
   "display_name": "Python 3 (ipykernel)",
   "language": "python",
   "name": "python3"
  },
  "language_info": {
   "codemirror_mode": {
    "name": "ipython",
    "version": 3
   },
   "file_extension": ".py",
   "mimetype": "text/x-python",
   "name": "python",
   "nbconvert_exporter": "python",
   "pygments_lexer": "ipython3",
   "version": "3.9.12"
  }
 },
 "nbformat": 4,
 "nbformat_minor": 5
}
