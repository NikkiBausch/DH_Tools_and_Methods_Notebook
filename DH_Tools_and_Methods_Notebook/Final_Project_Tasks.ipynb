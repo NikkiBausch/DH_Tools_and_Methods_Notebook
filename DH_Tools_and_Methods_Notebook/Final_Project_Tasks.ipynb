{
 "cells": [
  {
   "cell_type": "markdown",
   "id": "0774b826-f3ad-48bc-b747-08440da143c2",
   "metadata": {},
   "source": [
    "Scraping tasks: "
   ]
  },
  {
   "cell_type": "code",
   "execution_count": null,
   "id": "6c4ed34b-53bb-4c8d-b82c-9e396b2dee46",
   "metadata": {},
   "outputs": [],
   "source": []
  },
  {
   "cell_type": "markdown",
   "id": "7d9458a7-01a5-42cb-8642-39d2202ba6c6",
   "metadata": {},
   "source": [
    "NLP and Processing of Scraped website data: "
   ]
  },
  {
   "cell_type": "code",
   "execution_count": null,
   "id": "c721b365-1511-4822-8a81-bf4000e734f9",
   "metadata": {},
   "outputs": [],
   "source": []
  },
  {
   "cell_type": "code",
   "execution_count": null,
   "id": "d27cb2a4-da5a-4812-8e85-b46a7c5ab943",
   "metadata": {},
   "outputs": [],
   "source": []
  },
  {
   "cell_type": "markdown",
   "id": "c7ab0013-0510-4043-9ed6-c62fc6cb32c0",
   "metadata": {},
   "source": [
    "Spatial Analysis and retrieval of current coordinates for addresses we already have: "
   ]
  },
  {
   "cell_type": "code",
   "execution_count": null,
   "id": "3363597c-806f-4b7c-9c7e-4e2cc070c4ff",
   "metadata": {},
   "outputs": [],
   "source": []
  },
  {
   "cell_type": "code",
   "execution_count": null,
   "id": "ac5d7c9d-4332-4c34-a482-c1e582ec50c8",
   "metadata": {},
   "outputs": [],
   "source": []
  },
  {
   "cell_type": "code",
   "execution_count": null,
   "id": "9252dc32-b92a-4f08-8824-ec5e53c7a7bc",
   "metadata": {},
   "outputs": [],
   "source": []
  }
 ],
 "metadata": {
  "kernelspec": {
   "display_name": "Python 3 (ipykernel)",
   "language": "python",
   "name": "python3"
  },
  "language_info": {
   "codemirror_mode": {
    "name": "ipython",
    "version": 3
   },
   "file_extension": ".py",
   "mimetype": "text/x-python",
   "name": "python",
   "nbconvert_exporter": "python",
   "pygments_lexer": "ipython3",
   "version": "3.9.12"
  }
 },
 "nbformat": 4,
 "nbformat_minor": 5
}
