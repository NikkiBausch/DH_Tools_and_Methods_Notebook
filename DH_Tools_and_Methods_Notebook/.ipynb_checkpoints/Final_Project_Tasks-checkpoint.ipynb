{
 "cells": [
  {
   "cell_type": "markdown",
   "id": "0774b826-f3ad-48bc-b747-08440da143c2",
   "metadata": {},
   "source": [
    "Scraping tasks: "
   ]
  },
  {
   "cell_type": "code",
   "execution_count": null,
   "id": "6c4ed34b-53bb-4c8d-b82c-9e396b2dee46",
   "metadata": {},
   "outputs": [],
   "source": []
  },
  {
   "cell_type": "markdown",
   "id": "7d9458a7-01a5-42cb-8642-39d2202ba6c6",
   "metadata": {},
   "source": [
    "NLP and Processing of Scraped website data: "
   ]
  },
  {
   "cell_type": "code",
   "execution_count": null,
   "id": "c721b365-1511-4822-8a81-bf4000e734f9",
   "metadata": {},
   "outputs": [],
   "source": []
  },
  {
   "cell_type": "code",
   "execution_count": null,
   "id": "d27cb2a4-da5a-4812-8e85-b46a7c5ab943",
   "metadata": {},
   "outputs": [],
   "source": []
  },
  {
   "cell_type": "markdown",
   "id": "c7ab0013-0510-4043-9ed6-c62fc6cb32c0",
   "metadata": {},
   "source": [
    "Spatial Analysis and retrieval of current coordinates for addresses we already have: "
   ]
  },
  {
   "cell_type": "markdown",
   "id": "d5189263-528d-449b-859b-f58c7cfca9ab",
   "metadata": {
    "tags": []
   },
   "source": [
    "This space is for addresses that have been looked up and successfully verified through the Wien Geschichte Wiki: \n"
   ]
  },
  {
   "cell_type": "code",
   "execution_count": null,
   "id": "ac5d7c9d-4332-4c34-a482-c1e582ec50c8",
   "metadata": {},
   "outputs": [],
   "source": [
    "Jasomirgottstrasse 2, Wien 1010\n",
    "Rotenturmstraße 1-3, Wien 1010"
   ]
  },
  {
   "cell_type": "markdown",
   "id": "2187c5e4-360e-4af4-8b47-36c54b5c8357",
   "metadata": {},
   "source": [
    "This space is for the code to look up the lattitude and longitude: "
   ]
  },
  {
   "cell_type": "code",
   "execution_count": 7,
   "id": "3524b9a6-58bb-4366-8cd9-e1aef4e04e2c",
   "metadata": {},
   "outputs": [
    {
     "ename": "NameError",
     "evalue": "name 'f' is not defined",
     "output_type": "error",
     "traceback": [
      "\u001b[1;31m---------------------------------------------------------------------------\u001b[0m",
      "\u001b[1;31mNameError\u001b[0m                                 Traceback (most recent call last)",
      "Input \u001b[1;32mIn [7]\u001b[0m, in \u001b[0;36m<cell line: 12>\u001b[1;34m()\u001b[0m\n\u001b[0;32m     11\u001b[0m \u001b[38;5;28mopen\u001b[39m(\u001b[38;5;124m\"\u001b[39m\u001b[38;5;124mSt_Marxer_Spreadsheet.csv\u001b[39m\u001b[38;5;124m\"\u001b[39m, mode \u001b[38;5;241m=\u001b[39m\u001b[38;5;124m'\u001b[39m\u001b[38;5;124mw\u001b[39m\u001b[38;5;124m'\u001b[39m)\n\u001b[0;32m     12\u001b[0m \u001b[38;5;28;01mfor\u001b[39;00m Latitude \u001b[38;5;129;01min\u001b[39;00m \u001b[38;5;124m\"\u001b[39m\u001b[38;5;124mSt_Marxer_Spreadsheet.csv\u001b[39m\u001b[38;5;124m\"\u001b[39m:\n\u001b[1;32m---> 13\u001b[0m     \u001b[43mf\u001b[49m\u001b[38;5;241m.\u001b[39mwrite(new_lat)\n\u001b[0;32m     14\u001b[0m \u001b[38;5;28;01mfor\u001b[39;00m Longitude \u001b[38;5;129;01min\u001b[39;00m \u001b[38;5;124m\"\u001b[39m\u001b[38;5;124mSt_Marxer_Spreadsheet.csv\u001b[39m\u001b[38;5;124m\"\u001b[39m:\n\u001b[0;32m     15\u001b[0m     f\u001b[38;5;241m.\u001b[39mwrite(new_long)\n",
      "\u001b[1;31mNameError\u001b[0m: name 'f' is not defined"
     ]
    }
   ],
   "source": [
    "#import os\n",
    "#import geopy.geocoders as gg\n",
    "#import csv\n",
    "\n",
    "geolocator = gg.Nominatim(user_agent=\"email_goes_here\")\n",
    "\n",
    "new_address = \"Jasomirgottstrasse 2, Wien 1010\"\n",
    "location = geolocator.geocode(new_address)\n",
    "new_lat = location.latitude\n",
    "new_long = location.longitude \n",
    "\n",
    "open(\"St_Marxer_Spreadsheet.csv\", mode ='w') #possibly redo with csv package\n",
    "for Latitude in \"St_Marxer_Spreadsheet.csv\":\n",
    "    f.write(new_lat)\n",
    "for Longitude in \"St_Marxer_Spreadsheet.csv\":\n",
    "    f.write(new_long)\n",
    "f.close()\n",
    "\n",
    "\n"
   ]
  },
  {
   "cell_type": "code",
   "execution_count": null,
   "id": "5d973ebc-6746-4dca-a2c4-dc944ae69eaa",
   "metadata": {},
   "outputs": [],
   "source": []
  }
 ],
 "metadata": {
  "kernelspec": {
   "display_name": "Python 3 (ipykernel)",
   "language": "python",
   "name": "python3"
  },
  "language_info": {
   "codemirror_mode": {
    "name": "ipython",
    "version": 3
   },
   "file_extension": ".py",
   "mimetype": "text/x-python",
   "name": "python",
   "nbconvert_exporter": "python",
   "pygments_lexer": "ipython3",
   "version": "3.9.12"
  }
 },
 "nbformat": 4,
 "nbformat_minor": 5
}
